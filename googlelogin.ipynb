{
 "cells": [
  {
   "cell_type": "code",
   "execution_count": 1,
   "metadata": {},
   "outputs": [],
   "source": [
    "from selenium import webdriver\n",
    "from selenium.webdriver.common.by import By\n",
    "from selenium.webdriver.chrome.service import Service\n",
    "from selenium.webdriver.common.keys import Keys\n",
    "from selenium.webdriver.chrome.options import Options\n",
    "import time"
   ]
  },
  {
   "cell_type": "code",
   "execution_count": 2,
   "metadata": {},
   "outputs": [],
   "source": [
    "# Set up Chrome options\n",
    "chrome_options = Options()\n",
    "chrome_options.add_argument(\"--incognito\")  # Open Chrome in incognito mode\n",
    "chrome_options.add_argument(\"start-maximized\")  # Maximize the browser window\n",
    "chrome_options.add_argument(\"--disable-blink-features=AutomationControlled\")  # Disable WebDriver signature\n",
    "chrome_options.add_argument(\"user-agent=Your User Agent String Here\")  # Replace with a real user-agent string"
   ]
  },
  {
   "cell_type": "markdown",
   "metadata": {},
   "source": [
    "### Remembared if your not putt your correct email and password then it show the error"
   ]
  },
  {
   "cell_type": "code",
   "execution_count": 3,
   "metadata": {},
   "outputs": [
    {
     "ename": "NoSuchElementException",
     "evalue": "Message: no such element: Unable to locate element: {\"method\":\"css selector\",\"selector\":\"[name=\"Passwd\"]\"}\n  (Session info: chrome=128.0.6613.114); For documentation on this error, please visit: https://www.selenium.dev/documentation/webdriver/troubleshooting/errors#no-such-element-exception\nStacktrace:\n\tGetHandleVerifier [0x00007FF6FDC9B632+29090]\n\t(No symbol) [0x00007FF6FDC0E6E9]\n\t(No symbol) [0x00007FF6FDACB1CA]\n\t(No symbol) [0x00007FF6FDB1EFD7]\n\t(No symbol) [0x00007FF6FDB1F22C]\n\t(No symbol) [0x00007FF6FDB697F7]\n\t(No symbol) [0x00007FF6FDB4672F]\n\t(No symbol) [0x00007FF6FDB665D9]\n\t(No symbol) [0x00007FF6FDB46493]\n\t(No symbol) [0x00007FF6FDB109B1]\n\t(No symbol) [0x00007FF6FDB11B11]\n\tGetHandleVerifier [0x00007FF6FDFB883D+3294125]\n\tGetHandleVerifier [0x00007FF6FE004423+3604371]\n\tGetHandleVerifier [0x00007FF6FDFFA2E7+3563095]\n\tGetHandleVerifier [0x00007FF6FDD56F16+797318]\n\t(No symbol) [0x00007FF6FDC1986F]\n\t(No symbol) [0x00007FF6FDC15454]\n\t(No symbol) [0x00007FF6FDC155E0]\n\t(No symbol) [0x00007FF6FDC04A7F]\n\tBaseThreadInitThunk [0x00007FFD75CF257D+29]\n\tRtlUserThreadStart [0x00007FFD77ECAF28+40]\n",
     "output_type": "error",
     "traceback": [
      "\u001b[1;31m---------------------------------------------------------------------------\u001b[0m",
      "\u001b[1;31mNoSuchElementException\u001b[0m                    Traceback (most recent call last)",
      "Cell \u001b[1;32mIn[3], line 24\u001b[0m\n\u001b[0;32m     22\u001b[0m \u001b[38;5;66;03m# Enter the password\u001b[39;00m\n\u001b[0;32m     23\u001b[0m password \u001b[38;5;241m=\u001b[39m \u001b[38;5;124m\"\u001b[39m\u001b[38;5;124myourpassword1234\u001b[39m\u001b[38;5;124m\"\u001b[39m  \u001b[38;5;66;03m# Replace with your password\u001b[39;00m\n\u001b[1;32m---> 24\u001b[0m \u001b[43mdriver\u001b[49m\u001b[38;5;241;43m.\u001b[39;49m\u001b[43mfind_element\u001b[49m\u001b[43m(\u001b[49m\u001b[43mBy\u001b[49m\u001b[38;5;241;43m.\u001b[39;49m\u001b[43mNAME\u001b[49m\u001b[43m,\u001b[49m\u001b[43m \u001b[49m\u001b[38;5;124;43m\"\u001b[39;49m\u001b[38;5;124;43mPasswd\u001b[39;49m\u001b[38;5;124;43m\"\u001b[39;49m\u001b[43m)\u001b[49m\u001b[38;5;241m.\u001b[39msend_keys(password)\n\u001b[0;32m     25\u001b[0m driver\u001b[38;5;241m.\u001b[39mfind_element(By\u001b[38;5;241m.\u001b[39mNAME, \u001b[38;5;124m\"\u001b[39m\u001b[38;5;124mPasswd\u001b[39m\u001b[38;5;124m\"\u001b[39m)\u001b[38;5;241m.\u001b[39msend_keys(Keys\u001b[38;5;241m.\u001b[39mRETURN)\n\u001b[0;32m     27\u001b[0m \u001b[38;5;66;03m# Give time for the login process to complete\u001b[39;00m\n",
      "File \u001b[1;32mc:\\Python311\\Lib\\site-packages\\selenium\\webdriver\\remote\\webdriver.py:748\u001b[0m, in \u001b[0;36mWebDriver.find_element\u001b[1;34m(self, by, value)\u001b[0m\n\u001b[0;32m    745\u001b[0m     by \u001b[38;5;241m=\u001b[39m By\u001b[38;5;241m.\u001b[39mCSS_SELECTOR\n\u001b[0;32m    746\u001b[0m     value \u001b[38;5;241m=\u001b[39m \u001b[38;5;124mf\u001b[39m\u001b[38;5;124m'\u001b[39m\u001b[38;5;124m[name=\u001b[39m\u001b[38;5;124m\"\u001b[39m\u001b[38;5;132;01m{\u001b[39;00mvalue\u001b[38;5;132;01m}\u001b[39;00m\u001b[38;5;124m\"\u001b[39m\u001b[38;5;124m]\u001b[39m\u001b[38;5;124m'\u001b[39m\n\u001b[1;32m--> 748\u001b[0m \u001b[38;5;28;01mreturn\u001b[39;00m \u001b[38;5;28;43mself\u001b[39;49m\u001b[38;5;241;43m.\u001b[39;49m\u001b[43mexecute\u001b[49m\u001b[43m(\u001b[49m\u001b[43mCommand\u001b[49m\u001b[38;5;241;43m.\u001b[39;49m\u001b[43mFIND_ELEMENT\u001b[49m\u001b[43m,\u001b[49m\u001b[43m \u001b[49m\u001b[43m{\u001b[49m\u001b[38;5;124;43m\"\u001b[39;49m\u001b[38;5;124;43musing\u001b[39;49m\u001b[38;5;124;43m\"\u001b[39;49m\u001b[43m:\u001b[49m\u001b[43m \u001b[49m\u001b[43mby\u001b[49m\u001b[43m,\u001b[49m\u001b[43m \u001b[49m\u001b[38;5;124;43m\"\u001b[39;49m\u001b[38;5;124;43mvalue\u001b[39;49m\u001b[38;5;124;43m\"\u001b[39;49m\u001b[43m:\u001b[49m\u001b[43m \u001b[49m\u001b[43mvalue\u001b[49m\u001b[43m}\u001b[49m\u001b[43m)\u001b[49m[\u001b[38;5;124m\"\u001b[39m\u001b[38;5;124mvalue\u001b[39m\u001b[38;5;124m\"\u001b[39m]\n",
      "File \u001b[1;32mc:\\Python311\\Lib\\site-packages\\selenium\\webdriver\\remote\\webdriver.py:354\u001b[0m, in \u001b[0;36mWebDriver.execute\u001b[1;34m(self, driver_command, params)\u001b[0m\n\u001b[0;32m    352\u001b[0m response \u001b[38;5;241m=\u001b[39m \u001b[38;5;28mself\u001b[39m\u001b[38;5;241m.\u001b[39mcommand_executor\u001b[38;5;241m.\u001b[39mexecute(driver_command, params)\n\u001b[0;32m    353\u001b[0m \u001b[38;5;28;01mif\u001b[39;00m response:\n\u001b[1;32m--> 354\u001b[0m     \u001b[38;5;28;43mself\u001b[39;49m\u001b[38;5;241;43m.\u001b[39;49m\u001b[43merror_handler\u001b[49m\u001b[38;5;241;43m.\u001b[39;49m\u001b[43mcheck_response\u001b[49m\u001b[43m(\u001b[49m\u001b[43mresponse\u001b[49m\u001b[43m)\u001b[49m\n\u001b[0;32m    355\u001b[0m     response[\u001b[38;5;124m\"\u001b[39m\u001b[38;5;124mvalue\u001b[39m\u001b[38;5;124m\"\u001b[39m] \u001b[38;5;241m=\u001b[39m \u001b[38;5;28mself\u001b[39m\u001b[38;5;241m.\u001b[39m_unwrap_value(response\u001b[38;5;241m.\u001b[39mget(\u001b[38;5;124m\"\u001b[39m\u001b[38;5;124mvalue\u001b[39m\u001b[38;5;124m\"\u001b[39m, \u001b[38;5;28;01mNone\u001b[39;00m))\n\u001b[0;32m    356\u001b[0m     \u001b[38;5;28;01mreturn\u001b[39;00m response\n",
      "File \u001b[1;32mc:\\Python311\\Lib\\site-packages\\selenium\\webdriver\\remote\\errorhandler.py:229\u001b[0m, in \u001b[0;36mErrorHandler.check_response\u001b[1;34m(self, response)\u001b[0m\n\u001b[0;32m    227\u001b[0m         alert_text \u001b[38;5;241m=\u001b[39m value[\u001b[38;5;124m\"\u001b[39m\u001b[38;5;124malert\u001b[39m\u001b[38;5;124m\"\u001b[39m]\u001b[38;5;241m.\u001b[39mget(\u001b[38;5;124m\"\u001b[39m\u001b[38;5;124mtext\u001b[39m\u001b[38;5;124m\"\u001b[39m)\n\u001b[0;32m    228\u001b[0m     \u001b[38;5;28;01mraise\u001b[39;00m exception_class(message, screen, stacktrace, alert_text)  \u001b[38;5;66;03m# type: ignore[call-arg]  # mypy is not smart enough here\u001b[39;00m\n\u001b[1;32m--> 229\u001b[0m \u001b[38;5;28;01mraise\u001b[39;00m exception_class(message, screen, stacktrace)\n",
      "\u001b[1;31mNoSuchElementException\u001b[0m: Message: no such element: Unable to locate element: {\"method\":\"css selector\",\"selector\":\"[name=\"Passwd\"]\"}\n  (Session info: chrome=128.0.6613.114); For documentation on this error, please visit: https://www.selenium.dev/documentation/webdriver/troubleshooting/errors#no-such-element-exception\nStacktrace:\n\tGetHandleVerifier [0x00007FF6FDC9B632+29090]\n\t(No symbol) [0x00007FF6FDC0E6E9]\n\t(No symbol) [0x00007FF6FDACB1CA]\n\t(No symbol) [0x00007FF6FDB1EFD7]\n\t(No symbol) [0x00007FF6FDB1F22C]\n\t(No symbol) [0x00007FF6FDB697F7]\n\t(No symbol) [0x00007FF6FDB4672F]\n\t(No symbol) [0x00007FF6FDB665D9]\n\t(No symbol) [0x00007FF6FDB46493]\n\t(No symbol) [0x00007FF6FDB109B1]\n\t(No symbol) [0x00007FF6FDB11B11]\n\tGetHandleVerifier [0x00007FF6FDFB883D+3294125]\n\tGetHandleVerifier [0x00007FF6FE004423+3604371]\n\tGetHandleVerifier [0x00007FF6FDFFA2E7+3563095]\n\tGetHandleVerifier [0x00007FF6FDD56F16+797318]\n\t(No symbol) [0x00007FF6FDC1986F]\n\t(No symbol) [0x00007FF6FDC15454]\n\t(No symbol) [0x00007FF6FDC155E0]\n\t(No symbol) [0x00007FF6FDC04A7F]\n\tBaseThreadInitThunk [0x00007FFD75CF257D+29]\n\tRtlUserThreadStart [0x00007FFD77ECAF28+40]\n"
     ]
    }
   ],
   "source": [
    "# Initialize the Service object with the correct path to chromedriver.exe\n",
    "service = Service(r\"C:\\Users\\HP\\Downloads\\chromedriver-win64\\chromedriver-win64\\chromedriver.exe\")\n",
    "\n",
    "# Initialize the WebDriver with the service object and options\n",
    "driver = webdriver.Chrome(service=service, options=chrome_options)\n",
    "\n",
    "# Use a simpler Google login URL\n",
    "url = \"https://accounts.google.com/signin\"\n",
    "driver.get(url)\n",
    "\n",
    "# Give time for the page to load\n",
    "time.sleep(3)\n",
    "\n",
    "# Enter the email or phone number\n",
    "email = \"your@email.com\"  # Replace with your email\n",
    "driver.find_element(By.ID, \"identifierId\").send_keys(email)\n",
    "driver.find_element(By.ID, \"identifierId\").send_keys(Keys.RETURN)\n",
    "\n",
    "# Give time for the transition to the password page\n",
    "time.sleep(3)\n",
    "\n",
    "# Enter the password\n",
    "password = \"yourpassword1234\"  # Replace with your password\n",
    "driver.find_element(By.NAME, \"Passwd\").send_keys(password)\n",
    "driver.find_element(By.NAME, \"Passwd\").send_keys(Keys.RETURN)\n",
    "\n",
    "# Give time for the login process to complete\n",
    "time.sleep(5)\n",
    "\n",
    "# Optionally, you can close the browser after the login\n",
    "driver.quit()\n",
    "\n",
    "print(\"Login attempted.\")"
   ]
  },
  {
   "cell_type": "code",
   "execution_count": null,
   "metadata": {},
   "outputs": [],
   "source": []
  },
  {
   "cell_type": "code",
   "execution_count": null,
   "metadata": {},
   "outputs": [],
   "source": []
  }
 ],
 "metadata": {
  "kernelspec": {
   "display_name": "Python 3",
   "language": "python",
   "name": "python3"
  },
  "language_info": {
   "codemirror_mode": {
    "name": "ipython",
    "version": 3
   },
   "file_extension": ".py",
   "mimetype": "text/x-python",
   "name": "python",
   "nbconvert_exporter": "python",
   "pygments_lexer": "ipython3",
   "version": "3.11.4"
  }
 },
 "nbformat": 4,
 "nbformat_minor": 2
}
